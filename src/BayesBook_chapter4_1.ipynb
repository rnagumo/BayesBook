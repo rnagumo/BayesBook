{
 "cells": [
  {
   "cell_type": "markdown",
   "metadata": {},
   "source": [
    "# ベイズ推論による機械学習入門\n",
    "\n",
    "須山敦志, 'ベイズ推論による機械学習入門', 講談社 (2017) [講談社HP](https://www.kspub.co.jp/book/detail/1538320.html)   \n",
    "\n",
    "# 第4章　混合モデルと近似推論\n",
    "\n",
    "第4章のポアソン混合モデルの推論を実装する。  \n",
    "この事後分布は解析に計算することが、計算量的に非現実的であるので近似推論を導入する。\n",
    "近似推論には大きく二種類ある。\n",
    "\n",
    "1. MCMC (Markov Chain Monte Carlo)  \n",
    "   ギブスサンプリング、ブロッキングギブスサンプリング、崩壊型ギブスサンプリングなど\n",
    "2. 変分推論 (Variational Inference)  \n",
    "   平均場近似に基づく方法など\n",
    "\n",
    "参考：http://szdr.hatenablog.com/entry/2017/12/10/025054"
   ]
  },
  {
   "cell_type": "code",
   "execution_count": 51,
   "metadata": {
    "collapsed": true
   },
   "outputs": [],
   "source": [
    "%matplotlib inline\n",
    "import numpy as np\n",
    "import matplotlib.pyplot as plt\n",
    "import scipy.stats as stats\n",
    "from scipy.special import digamma\n",
    "\n",
    "import tqdm\n",
    "from sklearn.utils.extmath import logsumexp"
   ]
  },
  {
   "cell_type": "markdown",
   "metadata": {},
   "source": [
    "# 1. ポアソン混合分布の可視化\n",
    "\n",
    "ポアソン分布は以下で表現される。  \n",
    "\n",
    "$$\n",
    "\\begin{eqnarray*}\n",
    "p(x | \\lambda) &=& Poi(x | \\lambda) \n",
    "\\end{eqnarray*}\n",
    "$$\n",
    "\n",
    "これを、$s_n \\in \\{0, 1 \\}, \\Sigma_{n=1}^{N}s_n$を導入して、ポアソン混合分布は表される。  \n",
    "ただし、$x_n$はn番目のサンプル、$k$はクラスタ番号（総クラスタ数$K$）を指す。  \n",
    "つまり、$K$個のポアソン分布の内の一つだけが選ばれるのである。\n",
    "\n",
    "$$\n",
    "\\begin{eqnarray*}\n",
    "p(x_n | s_n, \\lambda_k) &=& \\prod_{k=1}^{K} Poi(x_n | \\lambda_k)^{s_{n, k}} \n",
    "\\end{eqnarray*}\n",
    "$$\n",
    "\n",
    "ただし、潜在変数$s_n$はカテゴリ分布から抽出される。\n",
    "\n",
    "$$\n",
    "\\begin{eqnarray*}\n",
    "s_n \\sim Cat(s_n | \\pi) \n",
    "\\end{eqnarray*}\n",
    "$$\n",
    "\n",
    "従って、ポアソン混合分布はパラメータ$\\lambda_k, \\pi$によって表現される。\n",
    "\n",
    "$$\n",
    "\\begin{eqnarray*}\n",
    "p(x_n | s_n, \\lambda_k, \\pi) &=& p(x_n | s_n, \\lambda_k) p(s_n | \\pi) \\\\\n",
    "&=&  \\prod_{k=1}^{K} Poi(x_n | \\lambda_k)^{s_{n, k}} Cat(s_{n,k} | \\pi_k) \n",
    "\\end{eqnarray*}\n",
    "$$\n",
    "\n",
    "ここで、パラメータ$\\lambda_k, \\pi$はハイパーパラメータ$a, b, \\alpha$を用いた確率分布に従う。\n",
    "\n",
    "$$\n",
    "\\begin{eqnarray*}\n",
    "p(\\lambda_k) &=& Gam(\\lambda_k | a, b) \\\\\n",
    "p(\\pi) &=& Dir(\\pi | \\alpha) \\\\ \n",
    "\\end{eqnarray*}\n",
    "$$\n"
   ]
  },
  {
   "cell_type": "markdown",
   "metadata": {},
   "source": [
    "まず、ポアソン混合分布を生成する。  \n",
    "ここでは、二峰性の1次元データを考える。"
   ]
  },
  {
   "cell_type": "code",
   "execution_count": 24,
   "metadata": {},
   "outputs": [
    {
     "data": {
      "image/png": "[encoded data removed]",
      "text/plain": [
       "<matplotlib.figure.Figure at 0x193a16deb00>"
      ]
     },
     "metadata": {},
     "output_type": "display_data"
    }
   ],
   "source": [
    "data = np.concatenate((stats.poisson.rvs(mu=25, size=400), stats.poisson.rvs(mu=55, size=300)))\n",
    "plt.hist(data, bins=20)\n",
    "plt.show()"
   ]
  },
  {
   "cell_type": "markdown",
   "metadata": {},
   "source": [
    "# 2. ギブスサンプリング\n",
    "\n",
    "まずは、MCMCの一つであるギブスサンプリングを実装する。  \n",
    "アルゴリズムは以下の通り。  \n",
    "\n",
    "#### 1. 潜在変数$s_n$をサンプリング（全てのサンプル$N$について）\n",
    "\n",
    "$$\n",
    "\\begin{equation*}\n",
    "\\eta_k \\propto \\exp(x_n \\ln \\lambda_k - \\lambda_k + \\ln \\pi_k) \\{ s.t. \\Sigma_{k=1}^{K} \\eta_{n, k} = 1 \\} \\\\\n",
    "s_n \\sim Cat(s_n | \\eta_n) \\\\ \n",
    "\\end{equation*}\n",
    "$$\n",
    "\n",
    "#### 2. パラメータ$\\lambda_k$をサンプリング（全てのクラスタ$K$について）\n",
    "\n",
    "$$\n",
    "\\begin{eqnarray*}\n",
    "\\hat a_k &=& \\Sigma_{n=1}^{N} s_{n, k}x_n + a \\\\\n",
    "\\hat b_k &=& \\Sigma_{n=1}^{N} s_{n, k} + b \\\\\n",
    "\\end{eqnarray*}\n",
    "$$\n",
    "\n",
    "$$\n",
    "\\begin{equation*}\n",
    "\\lambda_k \\sim Gam(\\lambda_k | \\hat a_k, \\hat b_k) \\\\\n",
    "\\end{equation*}\n",
    "$$\n",
    "\n",
    "#### 3. パラメータ$\\pi$をサンプリング\n",
    "\n",
    "$$\n",
    "\\begin{equation*}\n",
    "\\hat \\alpha_k = \\Sigma_{n=1}^{N} s_{n, k} + \\alpha_k \\\\\n",
    "\\pi \\sim Dir(\\pi | \\hat \\alpha) \\\\\n",
    "\\end{equation*}\n",
    "$$\n",
    "\n",
    "#### 4. 上記ステップ1~3を繰り返す"
   ]
  },
  {
   "cell_type": "code",
   "execution_count": 4,
   "metadata": {
    "collapsed": true
   },
   "outputs": [],
   "source": [
    "def log_sum_exp(X):\n",
    "    max_x = np.max(X, axis=1).reshape(-1, 1)\n",
    "    return np.log(np.sum(np.exp(X - max_x), axis=1).reshape(-1, 1)) + max_x"
   ]
  },
  {
   "cell_type": "code",
   "execution_count": 25,
   "metadata": {},
   "outputs": [
    {
     "name": "stdout",
     "output_type": "stream",
     "text": [
      "Finish\n"
     ]
    }
   ],
   "source": [
    "# Data\n",
    "X = data\n",
    "\n",
    "# Constants\n",
    "N = len(X)  # # of samples\n",
    "K = 2  # # of clusters\n",
    "\n",
    "# Parameters\n",
    "lmd = np.ones(K)\n",
    "pi = np.ones(K) / K\n",
    "\n",
    "# Hyper-parameters\n",
    "a = 1\n",
    "b = 1\n",
    "alpha = np.ones(K)\n",
    "\n",
    "# Calculated results\n",
    "sampled_lmd = np.zeros(K)\n",
    "sampled_pi = np.zeros(K)\n",
    "\n",
    "# Gibbs sampling\n",
    "for i in range(100):\n",
    "    # 1. Sample s_n\n",
    "    tmp = np.dot(X.reshape(1, -1).T, np.log(lmd.reshape(1, -1))) - lmd.reshape(1, -1) + np.log(pi).reshape(1, -1)\n",
    "    log_z = - log_sum_exp(tmp)\n",
    "    eta = np.exp(tmp + log_z)\n",
    "    \n",
    "    S = np.zeros((N, K))\n",
    "    for n in range(N):\n",
    "        S[n] = stats.multinomial.rvs(n=1, p=eta[n], size=1)\n",
    "    \n",
    "    # 2. Sample lambda_k\n",
    "    hat_a = np.dot(X, S).reshape(-1, 1) + a\n",
    "    hat_b = S.sum(axis=0).reshape(-1, 1) + b\n",
    "    lmd = stats.gamma.rvs(a=hat_a, scale=1./hat_b).T[0]\n",
    "    sampled_lmd = np.vstack((sampled_lmd, lmd))\n",
    "\n",
    "    # 3. Sample pi\n",
    "    hat_alpha = S.sum(axis=0).reshape(1, -1) + alpha\n",
    "    pi = stats.dirichlet.rvs(hat_alpha.reshape(-1), size=1)\n",
    "    sampled_pi = np.vstack((sampled_pi, pi))\n",
    "\n",
    "sampled_lmd = sampled_lmd[1:]\n",
    "sampled_pi = sampled_pi[1:]\n",
    "print('Finish')"
   ]
  },
  {
   "cell_type": "markdown",
   "metadata": {},
   "source": [
    "ギブスサンプリングをした結果を下図に示す。  \n",
    "もとの$\\lambda$の値は、$\\lambda_1=25, \\lambda_2=55$なので、良い精度で求められている。"
   ]
  },
  {
   "cell_type": "code",
   "execution_count": 26,
   "metadata": {},
   "outputs": [
    {
     "data": {
      "image/png": "[encoded data removed]",
      "text/plain": [
       "<matplotlib.figure.Figure at 0x193a180f9e8>"
      ]
     },
     "metadata": {},
     "output_type": "display_data"
    }
   ],
   "source": [
    "plt.hist(sampled_lmd, bins=50)\n",
    "plt.title('lmd_1: mean={:.2f}, lmd_2: mean={:.2f}'.format(sampled_lmd[:, 0].mean(), sampled_lmd[:, 1].mean()))\n",
    "plt.show()"
   ]
  },
  {
   "cell_type": "markdown",
   "metadata": {},
   "source": [
    "次に、パラメータ$\\pi$を求める。  \n",
    "元データの混合比率が400 / (300 + 400) = 0.571なので、それなりの精度が出ている。"
   ]
  },
  {
   "cell_type": "code",
   "execution_count": 27,
   "metadata": {},
   "outputs": [
    {
     "data": {
      "image/png": "[encoded data removed]",
      "text/plain": [
       "<matplotlib.figure.Figure at 0x193a1703f60>"
      ]
     },
     "metadata": {},
     "output_type": "display_data"
    }
   ],
   "source": [
    "plt.hist(sampled_pi[:, 0], bins=20)\n",
    "plt.title('sampled_pi, mean={:.4f}'.format(sampled_pi[:, 0].mean()))\n",
    "plt.show()"
   ]
  },
  {
   "cell_type": "code",
   "execution_count": 108,
   "metadata": {
    "collapsed": true
   },
   "outputs": [],
   "source": [
    "bin_num = 20\n",
    "prob_mat = stats.multinomial(1, )\n",
    "\n",
    "bins = np.linspace(np.min(X), np.max(X), num=bin_num)\n",
    "x_inds = np.digitize(X, bins)\n",
    "norms = np.zeros(bin_num + 1)\n",
    "cnts = np.zeros(bin_num + 1)\n",
    "\n",
    "for x_ind, prob_n in zip(x_inds[:, 0], )"
   ]
  },
  {
   "cell_type": "markdown",
   "metadata": {},
   "source": [
    "# 2. 変分推論\n",
    "\n",
    "次に、平均場近似に基づく変分推論を実装する。  \n",
    "アルゴリズムは以下の通り。  \n",
    "ギブスサンプリングとの違いは2点ある。  \n",
    "\n",
    "1. 潜在変数、パラメータの期待値を用いている\n",
    "2. 各パラメータが独立の確率分布に従う\n",
    "\n",
    "\n",
    "#### 1. 潜在変数$s_n$をサンプリング（全てのサンプル$N$について）\n",
    "\n",
    "$$\n",
    "\\begin{equation*}\n",
    "\\eta_k \\propto \\exp(x_n \\langle\\ln \\lambda_k \\rangle - \\langle \\lambda_k \\rangle + \\langle \\ln \\pi_k \\rangle) \\{ s.t. \\Sigma_{k=1}^{K} \\eta_{n, k} = 1 \\} \\\\\n",
    "q(s_n) = Cat(s_n | \\eta_n) \\\\ \n",
    "\\end{equation*}\n",
    "$$\n",
    "\n",
    "#### 2. パラメータ$\\lambda_k$をサンプリング（全てのクラスタ$K$について）\n",
    "\n",
    "$$\n",
    "\\begin{eqnarray*}\n",
    "\\hat a_k &=& \\Sigma_{n=1}^{N} \\langle s_{n, k} \\rangle x_n + a \\\\\n",
    "\\hat b_k &=& \\Sigma_{n=1}^{N} \\langle s_{n, k} \\rangle + b \\\\\n",
    "\\end{eqnarray*}\n",
    "$$\n",
    "\n",
    "$$\n",
    "\\begin{equation*}\n",
    "q(\\lambda_k) = Gam(\\lambda_k | \\hat a_k, \\hat b_k) \\\\\n",
    "\\end{equation*}\n",
    "$$\n",
    "\n",
    "#### 3. パラメータ$\\pi$をサンプリング\n",
    "\n",
    "$$\n",
    "\\begin{equation*}\n",
    "\\hat \\alpha_k = \\Sigma_{n=1}^{N} \\langle s_{n, k} \\rangle + \\alpha_k \\\\\n",
    "q(\\pi) = Dir(\\pi | \\hat \\alpha) \\\\\n",
    "\\end{equation*}\n",
    "$$\n",
    "\n",
    "#### 4. 上記ステップ1~3を繰り返す"
   ]
  },
  {
   "cell_type": "code",
   "execution_count": 89,
   "metadata": {},
   "outputs": [
    {
     "name": "stdout",
     "output_type": "stream",
     "text": [
      "Finish!\n"
     ]
    }
   ],
   "source": [
    "# Variational Inference\n",
    "\n",
    "# Data\n",
    "X = data\n",
    "\n",
    "# Constants\n",
    "N = len(X)  # # of samples\n",
    "K = 2  # # of clusters\n",
    "\n",
    "# Hyper-parameters\n",
    "a = np.ones(K)\n",
    "b = np.ones(K)\n",
    "alpha = np.random.rand(K)\n",
    "\n",
    "hat_a = a.copy()\n",
    "hat_b = b.copy()\n",
    "hat_alpha = alpha.copy()\n",
    "\n",
    "for i in range(100):\n",
    "    # ----------------------------\n",
    "    # 1. Update q(s_n)\n",
    "    # ----------------------------\n",
    "    \n",
    "    # Calculate expected value of lmd\n",
    "    expt_lmd = hat_a / hat_b\n",
    "    expt_ln_lmd = digamma(hat_a) - np.log(hat_b)\n",
    "    expt_ln_pi = digamma(hat_alpha) - digamma(hat_alpha.sum())\n",
    "    \n",
    "    # Update q(s_n)\n",
    "    tmp = np.dot(X.reshape(-1, 1), expt_ln_lmd.reshape(1, -1)) - expt_lmd + expt_ln_pi\n",
    "    eta = np.exp(tmp - log_sum_exp(tmp))\n",
    "    \n",
    "    # ----------------------------\n",
    "    # 2. Update q(lmd_k)\n",
    "    # ----------------------------\n",
    "    \n",
    "    hat_a = (eta * X.reshape(-1, 1)).sum(axis=0) + a\n",
    "    hat_b = eta.sum(axis=0) + b\n",
    "    # print(hat_a, hat_b)\n",
    "    # lmd = stats.gamma(a=hat_a, scale=1./hat_b)\n",
    "    \n",
    "    # ----------------------------\n",
    "    # 3. Update q(pi)\n",
    "    # ----------------------------\n",
    "    hat_alpha = eta.sum(axis=0) + alpha\n",
    "        \n",
    "print('Finish!')"
   ]
  },
  {
   "cell_type": "markdown",
   "metadata": {},
   "source": [
    "変分推論でハイパーパラメータ$\\hat a_k, \\hat b_k$を更新したときの、$q(\\lambda_k) = Gam(\\lambda_k | \\hat a_k, \\hat b_k)$を図示する。"
   ]
  },
  {
   "cell_type": "code",
   "execution_count": 95,
   "metadata": {
    "scrolled": true
   },
   "outputs": [
    {
     "data": {
      "text/plain": [
       "<matplotlib.text.Text at 0x193a1576e10>"
      ]
     },
     "execution_count": 95,
     "metadata": {},
     "output_type": "execute_result"
    },
    {
     "data": {
      "image/png": "[encoded data removed]",
      "text/plain": [
       "<matplotlib.figure.Figure at 0x193a16404a8>"
      ]
     },
     "metadata": {},
     "output_type": "display_data"
    }
   ],
   "source": [
    "x_tmp = np.arange(20, 60, 0.1)\n",
    "y_1 = stats.gamma.pdf(x_tmp, a=hat_a[0], scale=1./hat_b[0])\n",
    "y_2 = stats.gamma.pdf(x_tmp, a=hat_a[1], scale=1./hat_b[1])\n",
    "plt.plot(x_tmp, y_1)\n",
    "plt.plot(x_tmp, y_2)\n",
    "plt.xlabel('Lambda')"
   ]
  },
  {
   "cell_type": "markdown",
   "metadata": {},
   "source": [
    "混合比率の0.57の辺りでピークを取っている。"
   ]
  },
  {
   "cell_type": "code",
   "execution_count": 107,
   "metadata": {},
   "outputs": [
    {
     "data": {
      "image/png": "[encoded data removed]",
      "text/plain": [
       "<matplotlib.figure.Figure at 0x193a2b03f98>"
      ]
     },
     "metadata": {},
     "output_type": "display_data"
    }
   ],
   "source": [
    "x_tmp = np.arange(0.01, 1, 0.01)\n",
    "x_tmp = np.array([x_tmp, x_tmp[::-1]])\n",
    "y_pi = stats.dirichlet.pdf(x_tmp, hat_alpha)\n",
    "plt.plot(x_tmp[1], y_pi)\n",
    "plt.title('sampled_pi, mean={:.4f}'.format(sampled_pi[:, 0].mean()))\n",
    "plt.show()"
   ]
  }
 ],
 "metadata": {
  "kernelspec": {
   "display_name": "Python 3",
   "language": "python",
   "name": "python3"
  },
  "language_info": {
   "codemirror_mode": {
    "name": "ipython",
    "version": 3
   },
   "file_extension": ".py",
   "mimetype": "text/x-python",
   "name": "python",
   "nbconvert_exporter": "python",
   "pygments_lexer": "ipython3",
   "version": "3.7.3"
  }
 },
 "nbformat": 4,
 "nbformat_minor": 2
}
